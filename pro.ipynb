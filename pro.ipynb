{
 "cells": [
  {
   "cell_type": "code",
   "execution_count": 41,
   "metadata": {},
   "outputs": [],
   "source": [
    "import helpers"
   ]
  },
  {
   "cell_type": "code",
   "execution_count": 42,
   "metadata": {},
   "outputs": [
    {
     "name": "stdout",
     "output_type": "stream",
     "text": [
      "fuck you\n"
     ]
    },
    {
     "data": {
      "text/plain": [
       "1"
      ]
     },
     "execution_count": 42,
     "metadata": {},
     "output_type": "execute_result"
    }
   ],
   "source": [
    "helpers.fu()"
   ]
  },
  {
   "cell_type": "code",
   "execution_count": 58,
   "metadata": {},
   "outputs": [
    {
     "name": "stdout",
     "output_type": "stream",
     "text": [
      "fgf\n"
     ]
    }
   ],
   "source": [
    "import helpers\n",
    "from qutip import *\n",
    "from qutip.piqs import *\n",
    "import numpy as np\n",
    "import time\n",
    "import matplotlib.pyplot as plt\n",
    "import classfun\n",
    "\n",
    "print(\"fgf\")\n"
   ]
  },
  {
   "cell_type": "code",
   "execution_count": 44,
   "metadata": {},
   "outputs": [],
   "source": [
    "a = destroy(3)\n",
    "i = qeye(2)\n",
    "t = tensor(a,i)"
   ]
  },
  {
   "cell_type": "code",
   "execution_count": 59,
   "metadata": {},
   "outputs": [
    {
     "ename": "NameError",
     "evalue": "name 'tensor' is not defined",
     "output_type": "error",
     "traceback": [
      "\u001b[0;31m---------------------------------------------------------------------------\u001b[0m",
      "\u001b[0;31mNameError\u001b[0m                                 Traceback (most recent call last)",
      "Cell \u001b[0;32mIn[59], line 5\u001b[0m\n\u001b[1;32m      3\u001b[0m ts \u001b[38;5;241m=\u001b[39m qutip\u001b[38;5;241m.\u001b[39mtensor\n\u001b[1;32m      4\u001b[0m \u001b[38;5;28;01mfor\u001b[39;00m kappa \u001b[38;5;129;01min\u001b[39;00m [\u001b[38;5;241m10\u001b[39m]:\n\u001b[0;32m----> 5\u001b[0m     exact \u001b[38;5;241m=\u001b[39m \u001b[43mclassfun\u001b[49m\u001b[38;5;241;43m.\u001b[39;49m\u001b[43mexact_sys\u001b[49m\u001b[43m(\u001b[49m\u001b[43m \u001b[49m\u001b[38;5;241;43m1\u001b[39;49m\u001b[43m,\u001b[49m\u001b[43m \u001b[49m\u001b[38;5;241;43m20\u001b[39;49m\u001b[43m)\u001b[49m\n\u001b[1;32m      6\u001b[0m     exact_out \u001b[38;5;241m=\u001b[39m exact\u001b[38;5;241m.\u001b[39mrun_mesolve(t, [np\u001b[38;5;241m.\u001b[39msqrt(kappa)\u001b[38;5;241m*\u001b[39mexact\u001b[38;5;241m.\u001b[39ma], [exact\u001b[38;5;241m.\u001b[39msz, exact\u001b[38;5;241m.\u001b[39mad\u001b[38;5;241m*\u001b[39mexact\u001b[38;5;241m.\u001b[39ma])\n\u001b[1;32m      7\u001b[0m     plt\u001b[38;5;241m.\u001b[39mplot(t, exact_out\u001b[38;5;241m.\u001b[39mexpect[\u001b[38;5;241m1\u001b[39m], label\u001b[38;5;241m=\u001b[39m\u001b[38;5;124m\"\u001b[39m\u001b[38;5;124mkappa = \u001b[39m\u001b[38;5;124m\"\u001b[39m\u001b[38;5;241m+\u001b[39m\u001b[38;5;28mstr\u001b[39m(kappa))\n",
      "File \u001b[0;32m~/Documents/GitHub/JCLIB2/classfun.py:10\u001b[0m, in \u001b[0;36mexact_sys.__init__\u001b[0;34m(self, N_spin, N_cav, E_spin)\u001b[0m\n\u001b[1;32m      8\u001b[0m \u001b[39mself\u001b[39m\u001b[39m.\u001b[39mN_cav \u001b[39m=\u001b[39m N_cav\n\u001b[1;32m      9\u001b[0m \u001b[39mself\u001b[39m\u001b[39m.\u001b[39mE_spin \u001b[39m=\u001b[39m E_spin\n\u001b[0;32m---> 10\u001b[0m \u001b[39mself\u001b[39m\u001b[39m.\u001b[39mID_spin \u001b[39m=\u001b[39m tensor([qeye(\u001b[39m2\u001b[39m)]\u001b[39m*\u001b[39mN_spin)\n\u001b[1;32m     11\u001b[0m \u001b[39m# Initial sate\u001b[39;00m\n\u001b[1;32m     12\u001b[0m \u001b[39mif\u001b[39;00m E_spin:\n",
      "\u001b[0;31mNameError\u001b[0m: name 'tensor' is not defined"
     ]
    }
   ],
   "source": [
    "gk = 1.6\n",
    "t = np.linspace(0, 3.0/gk, int(1e3))\n",
    "ts = qutip.tensor\n",
    "for kappa in [10]:\n",
    "    exact = classfun.exact_sys( 1, 20)\n",
    "    exact_out = exact.run_mesolve(t, [np.sqrt(kappa)*exact.a], [exact.sz, exact.ad*exact.a])\n",
    "    plt.plot(t, exact_out.expect[1], label=\"kappa = \"+str(kappa))\n",
    "plt.legend()\n",
    "\n",
    "print(\"dsd\")\n"
   ]
  },
  {
   "cell_type": "code",
   "execution_count": null,
   "metadata": {},
   "outputs": [],
   "source": []
  }
 ],
 "metadata": {
  "kernelspec": {
   "display_name": "Python 3.10.9 ('qutip-env')",
   "language": "python",
   "name": "python3"
  },
  "language_info": {
   "codemirror_mode": {
    "name": "ipython",
    "version": 3
   },
   "file_extension": ".py",
   "mimetype": "text/x-python",
   "name": "python",
   "nbconvert_exporter": "python",
   "pygments_lexer": "ipython3",
   "version": "3.10.9"
  },
  "orig_nbformat": 4,
  "vscode": {
   "interpreter": {
    "hash": "9775a9d981c169da17f214c6837f95ab681e612137cdfa2b0686e62227d78f4d"
   }
  }
 },
 "nbformat": 4,
 "nbformat_minor": 2
}
