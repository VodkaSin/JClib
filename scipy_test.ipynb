{
 "cells": [
  {
   "cell_type": "code",
   "execution_count": 3,
   "metadata": {},
   "outputs": [],
   "source": [
    "import numpy as np\n",
    "import matplotlib.pyplot as plt\n",
    "import time"
   ]
  },
  {
   "cell_type": "code",
   "execution_count": 4,
   "metadata": {},
   "outputs": [],
   "source": [
    "def da(a,b):\n",
    "    return a*b - b*2\n",
    "\n",
    "def db(a,b):\n",
    "    return a/b + b*2\n",
    "\n",
    "a0 = np.asarray([2,3,4])\n",
    "b0 = np.asarray([0.2,0.1,-0.1])\n",
    "a = [a0]\n",
    "b = [b0]\n",
    "dt = 0.01\n",
    "tlist = np.linspace(0,10,int(10/dt))\n",
    "\n",
    "for t in tlist:\n",
    "    a1 = a[-1] + da(a0,b0)\n",
    "    b1 = b[-1] + db(a0,b0)\n",
    "    a.append(a1)\n",
    "    b.append(b1)"
   ]
  },
  {
   "cell_type": "code",
   "execution_count": 6,
   "metadata": {},
   "outputs": [
    {
     "ename": "ValueError",
     "evalue": "`y0` must be 1-dimensional.",
     "output_type": "error",
     "traceback": [
      "\u001b[1;31m---------------------------------------------------------------------------\u001b[0m",
      "\u001b[1;31mValueError\u001b[0m                                Traceback (most recent call last)",
      "Cell \u001b[1;32mIn[6], line 20\u001b[0m\n\u001b[0;32m     18\u001b[0m dt \u001b[39m=\u001b[39m \u001b[39m.5\u001b[39m\u001b[39m/\u001b[39m\u001b[39m1000\u001b[39m\n\u001b[0;32m     19\u001b[0m start \u001b[39m=\u001b[39m time\u001b[39m.\u001b[39mtime()\n\u001b[1;32m---> 20\u001b[0m sol \u001b[39m=\u001b[39m solve_ivp(\u001b[39mlambda\u001b[39;49;00m t, ab: [da(t, ab), db(t, ab)], t_span, ab0, method\u001b[39m=\u001b[39;49m\u001b[39m'\u001b[39;49m\u001b[39mBDF\u001b[39;49m\u001b[39m'\u001b[39;49m, rtol\u001b[39m=\u001b[39;49m\u001b[39m1e-6\u001b[39;49m, atol\u001b[39m=\u001b[39;49m\u001b[39m1e-9\u001b[39;49m)\n\u001b[0;32m     21\u001b[0m end \u001b[39m=\u001b[39m time\u001b[39m.\u001b[39mtime()\n\u001b[0;32m     22\u001b[0m \u001b[39mprint\u001b[39m(np\u001b[39m.\u001b[39msize(sol\u001b[39m.\u001b[39mt), end\u001b[39m-\u001b[39mstart)\n",
      "File \u001b[1;32mc:\\Users\\Admin\\anaconda3\\envs\\cupy\\lib\\site-packages\\scipy\\integrate\\_ivp\\ivp.py:557\u001b[0m, in \u001b[0;36msolve_ivp\u001b[1;34m(fun, t_span, y0, method, t_eval, dense_output, events, vectorized, args, **options)\u001b[0m\n\u001b[0;32m    554\u001b[0m \u001b[39mif\u001b[39;00m method \u001b[39min\u001b[39;00m METHODS:\n\u001b[0;32m    555\u001b[0m     method \u001b[39m=\u001b[39m METHODS[method]\n\u001b[1;32m--> 557\u001b[0m solver \u001b[39m=\u001b[39m method(fun, t0, y0, tf, vectorized\u001b[39m=\u001b[39mvectorized, \u001b[39m*\u001b[39m\u001b[39m*\u001b[39moptions)\n\u001b[0;32m    559\u001b[0m \u001b[39mif\u001b[39;00m t_eval \u001b[39mis\u001b[39;00m \u001b[39mNone\u001b[39;00m:\n\u001b[0;32m    560\u001b[0m     ts \u001b[39m=\u001b[39m [t0]\n",
      "File \u001b[1;32mc:\\Users\\Admin\\anaconda3\\envs\\cupy\\lib\\site-packages\\scipy\\integrate\\_ivp\\bdf.py:192\u001b[0m, in \u001b[0;36mBDF.__init__\u001b[1;34m(self, fun, t0, y0, t_bound, max_step, rtol, atol, jac, jac_sparsity, vectorized, first_step, **extraneous)\u001b[0m\n\u001b[0;32m    188\u001b[0m \u001b[39mdef\u001b[39;00m \u001b[39m__init__\u001b[39m(\u001b[39mself\u001b[39m, fun, t0, y0, t_bound, max_step\u001b[39m=\u001b[39mnp\u001b[39m.\u001b[39minf,\n\u001b[0;32m    189\u001b[0m              rtol\u001b[39m=\u001b[39m\u001b[39m1e-3\u001b[39m, atol\u001b[39m=\u001b[39m\u001b[39m1e-6\u001b[39m, jac\u001b[39m=\u001b[39m\u001b[39mNone\u001b[39;00m, jac_sparsity\u001b[39m=\u001b[39m\u001b[39mNone\u001b[39;00m,\n\u001b[0;32m    190\u001b[0m              vectorized\u001b[39m=\u001b[39m\u001b[39mFalse\u001b[39;00m, first_step\u001b[39m=\u001b[39m\u001b[39mNone\u001b[39;00m, \u001b[39m*\u001b[39m\u001b[39m*\u001b[39mextraneous):\n\u001b[0;32m    191\u001b[0m     warn_extraneous(extraneous)\n\u001b[1;32m--> 192\u001b[0m     \u001b[39msuper\u001b[39;49m()\u001b[39m.\u001b[39;49m\u001b[39m__init__\u001b[39;49m(fun, t0, y0, t_bound, vectorized,\n\u001b[0;32m    193\u001b[0m                      support_complex\u001b[39m=\u001b[39;49m\u001b[39mTrue\u001b[39;49;00m)\n\u001b[0;32m    194\u001b[0m     \u001b[39mself\u001b[39m\u001b[39m.\u001b[39mmax_step \u001b[39m=\u001b[39m validate_max_step(max_step)\n\u001b[0;32m    195\u001b[0m     \u001b[39mself\u001b[39m\u001b[39m.\u001b[39mrtol, \u001b[39mself\u001b[39m\u001b[39m.\u001b[39matol \u001b[39m=\u001b[39m validate_tol(rtol, atol, \u001b[39mself\u001b[39m\u001b[39m.\u001b[39mn)\n",
      "File \u001b[1;32mc:\\Users\\Admin\\anaconda3\\envs\\cupy\\lib\\site-packages\\scipy\\integrate\\_ivp\\base.py:119\u001b[0m, in \u001b[0;36mOdeSolver.__init__\u001b[1;34m(self, fun, t0, y0, t_bound, vectorized, support_complex)\u001b[0m\n\u001b[0;32m    117\u001b[0m \u001b[39mself\u001b[39m\u001b[39m.\u001b[39mt_old \u001b[39m=\u001b[39m \u001b[39mNone\u001b[39;00m\n\u001b[0;32m    118\u001b[0m \u001b[39mself\u001b[39m\u001b[39m.\u001b[39mt \u001b[39m=\u001b[39m t0\n\u001b[1;32m--> 119\u001b[0m \u001b[39mself\u001b[39m\u001b[39m.\u001b[39m_fun, \u001b[39mself\u001b[39m\u001b[39m.\u001b[39my \u001b[39m=\u001b[39m check_arguments(fun, y0, support_complex)\n\u001b[0;32m    120\u001b[0m \u001b[39mself\u001b[39m\u001b[39m.\u001b[39mt_bound \u001b[39m=\u001b[39m t_bound\n\u001b[0;32m    121\u001b[0m \u001b[39mself\u001b[39m\u001b[39m.\u001b[39mvectorized \u001b[39m=\u001b[39m vectorized\n",
      "File \u001b[1;32mc:\\Users\\Admin\\anaconda3\\envs\\cupy\\lib\\site-packages\\scipy\\integrate\\_ivp\\base.py:17\u001b[0m, in \u001b[0;36mcheck_arguments\u001b[1;34m(fun, y0, support_complex)\u001b[0m\n\u001b[0;32m     14\u001b[0m y0 \u001b[39m=\u001b[39m y0\u001b[39m.\u001b[39mastype(dtype, copy\u001b[39m=\u001b[39m\u001b[39mFalse\u001b[39;00m)\n\u001b[0;32m     16\u001b[0m \u001b[39mif\u001b[39;00m y0\u001b[39m.\u001b[39mndim \u001b[39m!=\u001b[39m \u001b[39m1\u001b[39m:\n\u001b[1;32m---> 17\u001b[0m     \u001b[39mraise\u001b[39;00m \u001b[39mValueError\u001b[39;00m(\u001b[39m\"\u001b[39m\u001b[39m`y0` must be 1-dimensional.\u001b[39m\u001b[39m\"\u001b[39m)\n\u001b[0;32m     19\u001b[0m \u001b[39mdef\u001b[39;00m \u001b[39mfun_wrapped\u001b[39m(t, y):\n\u001b[0;32m     20\u001b[0m     \u001b[39mreturn\u001b[39;00m np\u001b[39m.\u001b[39masarray(fun(t, y), dtype\u001b[39m=\u001b[39mdtype)\n",
      "\u001b[1;31mValueError\u001b[0m: `y0` must be 1-dimensional."
     ]
    }
   ],
   "source": [
    "## Chatgpt suggests:\n",
    "import numpy as np\n",
    "from scipy.integrate import solve_ivp\n",
    "\n",
    "def da(t, ab):\n",
    "    a, b = ab\n",
    "    return a*b + b\n",
    "\n",
    "def db(t, ab):\n",
    "    a, b = ab\n",
    "    return a/b - b*2\n",
    "\n",
    "a0 = [2,3,4]\n",
    "b0 = [0.2,0.1,-0.1]\n",
    "ab0 = [a0, b0]\n",
    "t_span = [0, 3.9]\n",
    "tlist = np.linspace(0,.5,1000)\n",
    "dt = .5/1000\n",
    "start = time.time()\n",
    "sol = solve_ivp(lambda t, ab: [da(t, ab), db(t, ab)], t_span, ab0, method='BDF', rtol=1e-6, atol=1e-9)\n",
    "end = time.time()\n",
    "print(np.size(sol.t), end-start)\n",
    "a = sol.y[0]\n",
    "b = sol.y[1]\n",
    "\n",
    "print(\"The values of a and b at t=5 are:\", a[-1], b[-1])\n"
   ]
  },
  {
   "cell_type": "code",
   "execution_count": 56,
   "metadata": {},
   "outputs": [
    {
     "name": "stdout",
     "output_type": "stream",
     "text": [
      "[0.2        0.20294479 0.21909083 0.23571608 0.25290686 0.27074158\n",
      " 0.28929256 0.30862758 0.33335663 0.35946155 0.38705565 0.42322992]\n"
     ]
    }
   ],
   "source": [
    "print(a)"
   ]
  },
  {
   "cell_type": "code",
   "execution_count": 48,
   "metadata": {},
   "outputs": [
    {
     "name": "stdout",
     "output_type": "stream",
     "text": [
      "[3.00000000e-01 2.90758214e-01 2.64756608e-01 2.47235680e-01\n",
      " 2.29595196e-01 2.11721958e-01 1.99736100e-01 1.87528163e-01\n",
      " 1.75026202e-01 1.62135554e-01 1.53784048e-01 1.45187183e-01\n",
      " 1.36291190e-01 1.27025466e-01 1.19743304e-01 1.12142598e-01\n",
      " 1.04149681e-01 9.93010801e-02 9.42609371e-02 8.89958148e-02\n",
      " 8.34621818e-02 7.95634070e-02 7.54942318e-02 7.12251044e-02\n",
      " 6.67172714e-02 6.31589928e-02 5.94088596e-02 5.54277428e-02\n",
      " 5.29584638e-02 5.03766162e-02 4.76638600e-02 4.47963642e-02\n",
      " 4.27638427e-02 4.06343522e-02 3.83917391e-02 3.60148545e-02\n",
      " 3.41280900e-02 3.21339232e-02 3.00109389e-02 2.86874453e-02\n",
      " 2.73011607e-02 2.58419784e-02 2.42967644e-02 2.31998541e-02\n",
      " 2.20491602e-02 2.08357720e-02 1.95480167e-02 1.85245093e-02\n",
      " 1.74415494e-02 1.62872814e-02 1.55677594e-02 1.48135359e-02\n",
      " 1.40190109e-02 1.31768962e-02 1.25792609e-02 1.19518940e-02\n",
      " 1.12898399e-02 1.05865927e-02 1.00277764e-02 9.43600500e-03\n",
      " 8.80463619e-03 8.41222665e-03 8.00062649e-03 7.56670464e-03\n",
      " 7.10637331e-03 6.78014449e-03 6.43742294e-03 6.07541817e-03\n",
      " 5.69045117e-03 5.38491493e-03 5.06097967e-03 4.71485458e-03\n",
      " 4.50110488e-03 4.27669045e-03 4.03983441e-03 3.78820375e-03\n",
      " 3.61040268e-03 3.42338243e-03 3.22553980e-03 3.01474486e-03\n",
      " 2.84787675e-03 2.67060450e-03 2.53318155e-03 2.38786410e-03\n",
      " 2.23311153e-03 2.12545069e-03 2.01203796e-03 1.89183915e-03\n",
      " 1.76346719e-03 1.66190469e-03 1.55371788e-03 1.47069993e-03\n",
      " 1.38270678e-03 1.28871973e-03 1.22384677e-03 1.15533701e-03\n",
      " 1.08250015e-03 1.00439528e-03 9.43013063e-04 8.77346892e-04\n",
      " 8.27869371e-04 7.75240547e-04 7.18768529e-04 6.80294022e-04\n",
      " 6.39508989e-04 5.95939236e-04 5.48922061e-04 5.12396705e-04\n",
      " 4.73059569e-04 4.46330185e-04 4.17894626e-04 3.87377349e-04\n",
      " 3.54240749e-04 3.28867656e-04 3.01365834e-04 2.83276509e-04\n",
      " 2.63950367e-04 2.43092604e-04 2.20268545e-04 2.02981869e-04\n",
      " 1.84078916e-04 1.72253152e-04 1.59553281e-04 1.45750991e-04\n",
      " 1.30496945e-04 1.19058150e-04 1.06396588e-04 9.90502335e-05\n",
      " 8.93553360e-05 8.26832940e-05 7.54233270e-05 6.73856748e-05\n",
      " 6.04667533e-05 5.26462467e-05 4.69873599e-05 4.05462285e-05\n",
      " 3.59077043e-05 3.27813861e-05 2.85739483e-05 2.64199055e-05\n",
      " 2.29120921e-05 2.08544683e-05 1.78992557e-05 1.66004034e-05\n",
      " 1.41497429e-05 1.29026527e-05 1.08593404e-05 1.00894234e-05\n",
      " 8.42063753e-06 6.89378764e-06 5.71187491e-06 4.70147914e-06\n",
      " 3.81173711e-06 3.05029906e-06 2.41047476e-06 1.87625297e-06\n",
      " 1.43423619e-06 1.07365375e-06 7.84274354e-07 5.56203501e-07\n",
      " 3.80245523e-07 2.48012981e-07 1.59642503e-07 9.76231999e-08\n",
      " 5.24608173e-08 4.01220891e-08 2.16145001e-08 1.25442202e-08]\n"
     ]
    }
   ],
   "source": [
    "print(b)"
   ]
  },
  {
   "cell_type": "code",
   "execution_count": 49,
   "metadata": {},
   "outputs": [
    {
     "data": {
      "text/plain": [
       "168"
      ]
     },
     "execution_count": 49,
     "metadata": {},
     "output_type": "execute_result"
    }
   ],
   "source": [
    "np.size(sol.t)\n",
    "np.size(a)"
   ]
  },
  {
   "cell_type": "code",
   "execution_count": 53,
   "metadata": {},
   "outputs": [
    {
     "data": {
      "text/plain": [
       "[<matplotlib.lines.Line2D at 0x206907ce190>]"
      ]
     },
     "execution_count": 53,
     "metadata": {},
     "output_type": "execute_result"
    },
    {
     "data": {
      "image/png": "[encoded data removed]",
      "text/plain": [
       "<Figure size 640x480 with 1 Axes>"
      ]
     },
     "metadata": {},
     "output_type": "display_data"
    }
   ],
   "source": [
    "plt.plot(sol.t, a)\n",
    "plt.plot(sol.t, b)"
   ]
  },
  {
   "cell_type": "code",
   "execution_count": 4,
   "metadata": {},
   "outputs": [
    {
     "ename": "IndexError",
     "evalue": "list index out of range",
     "output_type": "error",
     "traceback": [
      "\u001b[1;31m---------------------------------------------------------------------------\u001b[0m",
      "\u001b[1;31mIndexError\u001b[0m                                Traceback (most recent call last)",
      "Cell \u001b[1;32mIn[4], line 71\u001b[0m\n\u001b[0;32m     68\u001b[0m     \u001b[39mreturn\u001b[39;00m np\u001b[39m.\u001b[39marray([da_dt, db_dt])\n\u001b[0;32m     70\u001b[0m \u001b[39m# Integrate the system from t=0 to t=3 using time adaptive BDF method\u001b[39;00m\n\u001b[1;32m---> 71\u001b[0m t, y \u001b[39m=\u001b[39m bdf_integrate(f, np\u001b[39m.\u001b[39;49marray([a, b]), \u001b[39m0\u001b[39;49m, \u001b[39m3.0\u001b[39;49m)\n\u001b[0;32m     73\u001b[0m \u001b[39m# Print the final values of a and b\u001b[39;00m\n\u001b[0;32m     74\u001b[0m \u001b[39mprint\u001b[39m(\u001b[39m\"\u001b[39m\u001b[39ma =\u001b[39m\u001b[39m\"\u001b[39m, y[\u001b[39m-\u001b[39m\u001b[39m1\u001b[39m, \u001b[39m0\u001b[39m])\n",
      "Cell \u001b[1;32mIn[4], line 27\u001b[0m, in \u001b[0;36mbdf_integrate\u001b[1;34m(f, y0, t0, t_end, rtol, atol, maxiter)\u001b[0m\n\u001b[0;32m     25\u001b[0m converged \u001b[39m=\u001b[39m \u001b[39mFalse\u001b[39;00m\n\u001b[0;32m     26\u001b[0m \u001b[39mfor\u001b[39;00m i \u001b[39min\u001b[39;00m \u001b[39mrange\u001b[39m(maxiter):\n\u001b[1;32m---> 27\u001b[0m     J \u001b[39m=\u001b[39m alpha\u001b[39m.\u001b[39mdot(np\u001b[39m.\u001b[39mdiag(beta))\u001b[39m.\u001b[39mdot(f(t[k\u001b[39m+\u001b[39;49m\u001b[39m1\u001b[39;49m], y_next))\u001b[39m.\u001b[39mreshape(\u001b[39m-\u001b[39m\u001b[39m1\u001b[39m, \u001b[39m1\u001b[39m)\n\u001b[0;32m     28\u001b[0m     dy \u001b[39m=\u001b[39m np\u001b[39m.\u001b[39mlinalg\u001b[39m.\u001b[39msolve(J, \u001b[39m-\u001b[39mnewton_func(y_next))\n\u001b[0;32m     29\u001b[0m     y_next \u001b[39m+\u001b[39m\u001b[39m=\u001b[39m dy\u001b[39m.\u001b[39mflatten()\n",
      "\u001b[1;31mIndexError\u001b[0m: list index out of range"
     ]
    }
   ],
   "source": [
    "def bdf(f, y0, t0, tf, hmin, hmax, atol, rtol):\n",
    "    \"\"\"\n",
    "    Solves an ordinary differential equation using the adaptive BDF method.\n",
    "    \n",
    "    Parameters:\n",
    "    f: the function defining the ODE dy/dt = f(t, y)\n",
    "    y0: the initial condition for y at t=t0\n",
    "    t0: the initial time\n",
    "    tf: the final time\n",
    "    hmin: the minimum step size\n",
    "    hmax: the maximum step size\n",
    "    atol: the absolute tolerance\n",
    "    rtol: the relative tolerance\n",
    "    \n",
    "    Returns:\n",
    "    t: the array of times at which the solution was computed\n",
    "    y: the array of solution values at the corresponding times\n",
    "    \"\"\"\n",
    "    \n",
    "    # Set initial values\n",
    "    t = [t0]\n",
    "    y = [y0]\n",
    "    h = hmax\n",
    "    k = 0\n",
    "    \n",
    "    # Define the BDF coefficients\n",
    "    bdf_coefs = [\n",
    "        [1],\n",
    "        [-1/2, 3/2],\n",
    "        [-1/3, 4/3, -1/3],\n",
    "        [-1/4, 3/2, -3/4, 1/4],\n",
    "        [-1/5, 5/4, -5/3, 5/6, -1/6],\n",
    "        [-1/6, 15/16, -8/3, 25/12, -3/2, 1/3],\n",
    "    ]\n",
    "    \n",
    "    # Define the order of the method\n",
    "    p = len(bdf_coefs) - 1\n",
    "    \n",
    "    # Define the error scaling factor\n",
    "    fac = 0.8\n",
    "    \n",
    "    # Define the maximum number of iterations\n",
    "    max_iter = 10\n",
    "    \n",
    "    # Define the loop to compute the solution\n",
    "    while t[k] < tf:\n",
    "        # Compute the time step h\n",
    "        if t[k] + h > tf:\n",
    "            h = tf - t[k]\n",
    "        elif t[k] + 2*h > tf:\n",
    "            h = (tf - t[k])/2\n",
    "            \n",
    "        # Compute the predictor using the previous step and the BDF coefficients\n",
    "        if k < p:\n",
    "            # Use the forward Euler method for the first p steps\n",
    "            y_pred = y[k] + h*f(t[k], y[k])\n",
    "        else:\n",
    "            # Use the BDF formula to compute the predictor\n",
    "            y_pred = sum(bdf_coefs[-1][i]*y[k-i] for i in range(p+1))\n",
    "            y_pred += h*sum(bdf_coefs[-1][i+1]*f(t[k-i], y[k-i]) for i in range(p))\n",
    "        \n",
    "        # Define the loop to compute the corrector\n",
    "        for i in range(max_iter):\n",
    "            # Compute the corrector using the BDF formula\n",
    "            y_corr = sum(bdf_coefs[-1][i]*y[k-i] for i in range(p+1))\n",
    "            y_corr += h*sum(bdf_coefs[-1][i+1]*f(t[k-i], y[k-i]) for i in range(p))\n",
    "            \n",
    "            # Compute the error estimate\n",
    "            err = abs(y_corr - y_pred)\n",
    "            err_scale = atol + rtol*max(abs(y_corr), abs(y_pred))\n",
    "            err_norm = max(1e-6, abs(err/err_scale))\n"
   ]
  },
  {
   "cell_type": "code",
   "execution_count": 22,
   "metadata": {},
   "outputs": [
    {
     "name": "stderr",
     "output_type": "stream",
     "text": [
      "C:\\Users\\Admin\\AppData\\Local\\Temp\\ipykernel_7320\\2244461038.py:3: VisibleDeprecationWarning: Creating an ndarray from ragged nested sequences (which is a list-or-tuple of lists-or-tuples-or ndarrays with different lengths or shapes) is deprecated. If you meant to do this, you must specify 'dtype=object' when creating the ndarray.\n",
      "  B = np.asarray([[],\n"
     ]
    }
   ],
   "source": [
    "A = [0, 1/4, 3/8, 12/13, 1, 1/2]\n",
    "\n",
    "B = np.asarray([[],\n",
    "     [1/4],\n",
    "     [3/32, 9/32],\n",
    "     [1932/2197, -7200/2197, 7296/2197],\n",
    "     [439/216, -8, 3680/513, -845/4104],\n",
    "     [-8/27, 2, -3544/2565, 1859/4104, -11/40]])\n",
    "C = [25/216, 0, 1408/2565, 2197/4104, -1/5, 0]\n",
    "CH = [16/135, 0, 6656/12825, 28561/56430, -9/50, 2/55]\n",
    "CT = [1/360, 0, -128/4275, -2197/75240, 1/50, 2/55]"
   ]
  },
  {
   "cell_type": "code",
   "execution_count": 62,
   "metadata": {},
   "outputs": [
    {
     "data": {
      "text/plain": [
       "-8"
      ]
     },
     "execution_count": 62,
     "metadata": {},
     "output_type": "execute_result"
    }
   ],
   "source": [
    "B[4][1]"
   ]
  },
  {
   "cell_type": "code",
   "execution_count": 56,
   "metadata": {},
   "outputs": [
    {
     "name": "stdout",
     "output_type": "stream",
     "text": [
      "ki [[-1.      -0.96875 -0.875  ]\n",
      " [-0.71875 -0.5     -0.21875]\n",
      " [ 0.125    0.53125  1.     ]]\n",
      "k [array([[-1.     , -0.96875, -0.875  ],\n",
      "       [-0.71875, -0.5    , -0.21875],\n",
      "       [ 0.125  ,  0.53125,  1.     ]])]\n"
     ]
    },
    {
     "ename": "ValueError",
     "evalue": "shapes (1,) and (1,3,3) not aligned: 1 (dim 0) != 3 (dim 1)",
     "output_type": "error",
     "traceback": [
      "\u001b[1;31m---------------------------------------------------------------------------\u001b[0m",
      "\u001b[1;31mValueError\u001b[0m                                Traceback (most recent call last)",
      "Cell \u001b[1;32mIn[56], line 10\u001b[0m\n\u001b[0;32m      8\u001b[0m k \u001b[39m=\u001b[39m []\n\u001b[0;32m      9\u001b[0m \u001b[39mfor\u001b[39;00m i \u001b[39min\u001b[39;00m \u001b[39mrange\u001b[39m(\u001b[39m6\u001b[39m):\n\u001b[1;32m---> 10\u001b[0m     ki \u001b[39m=\u001b[39m h\u001b[39m*\u001b[39mfun(t0, y0 \u001b[39m+\u001b[39m h\u001b[39m*\u001b[39mnp\u001b[39m.\u001b[39;49mdot(B[i], k[:i]))\n\u001b[0;32m     11\u001b[0m     k\u001b[39m.\u001b[39mappend(ki)\n\u001b[0;32m     12\u001b[0m     \u001b[39mprint\u001b[39m(\u001b[39m\"\u001b[39m\u001b[39mki\u001b[39m\u001b[39m\"\u001b[39m, ki)\n",
      "File \u001b[1;32m<__array_function__ internals>:180\u001b[0m, in \u001b[0;36mdot\u001b[1;34m(*args, **kwargs)\u001b[0m\n",
      "\u001b[1;31mValueError\u001b[0m: shapes (1,) and (1,3,3) not aligned: 1 (dim 0) != 3 (dim 1)"
     ]
    }
   ],
   "source": [
    "def fun(t,y):\n",
    "    return y**2-2\n",
    "\n",
    "h = 0.5\n",
    "k = [1]\n",
    "t0 = 0\n",
    "y0 = np.linspace(0,2,9).reshape(3,3)\n",
    "k = []\n",
    "for i in range(6):\n",
    "    ki = h*fun(t0, y0 + h*np.dot(B[i], k[:i]))\n",
    "    k.append(ki)\n",
    "    print(\"ki\", ki)\n",
    "    print(\"k\", k)\n",
    "\n"
   ]
  },
  {
   "cell_type": "code",
   "execution_count": null,
   "metadata": {},
   "outputs": [],
   "source": []
  },
  {
   "cell_type": "code",
   "execution_count": 113,
   "metadata": {},
   "outputs": [
    {
     "name": "stdout",
     "output_type": "stream",
     "text": [
      "5.230326805341634e-16\n"
     ]
    },
    {
     "data": {
      "text/plain": [
       "(array([[-1.99999867e-03,  2.48062017e-01,  4.98249126e-01],\n",
       "        [ 7.48561422e-01,  9.98999000e-01,  1.24956195e+00],\n",
       "        [ 1.50025038e+00,  1.75106436e+00,  2.00200401e+00]]),\n",
       " 0.01)"
      ]
     },
     "execution_count": 113,
     "metadata": {},
     "output_type": "execute_result"
    }
   ],
   "source": [
    "def RK45(fun, t0, y0, h):\n",
    "    \"\"\"\n",
    "    Returns the new stepsize and value\n",
    "    Input:\n",
    "    fun: function\n",
    "    y0: current value\n",
    "    \"\"\"\n",
    "    k1 = h * fun(t0 + A[0]*h, y0)\n",
    "    k2 = h * fun(t0 + A[1]*h, y0 + B[1]*k1)\n",
    "    k3 = h * fun(t0 + A[2]*h, y0 + B[2][0]*k1 + B[2][1]*k2)\n",
    "    k4 = h * fun(t0 + A[3]*h, y0 + B[3][0]*k1 + B[3][1]*k2 + B[3][2]*k3)\n",
    "    k5 = h * fun(t0 + A[4]*h, y0 + B[4][0]*k1 + B[4][1]*k2 + B[4][2]*k3 +B[4][3]*k4)\n",
    "    k6 = h * fun(t0 + A[5]*h, y0 + B[5][0]*k1 + B[5][1]*k2 + B[5][2]*k3 +B[5][3]*k4\n",
    "                 + B[5][4]*k5)\n",
    "    k = np.asarray([k1,k2,k3,k4,k5,k6])\n",
    "    y1 = y0 + sum([CH[i]*k[i] for i in range(6)])\n",
    "    TE = np.abs(sum([CT[i]*k[i] for i in range(6)])).max()\n",
    "    print(TE)\n",
    "    \n",
    "    fac = 0.9\n",
    "    min_step = 1e-6\n",
    "    max_step = 1e-2\n",
    "    tol = 1e-4\n",
    "\n",
    "    h_new = min(max_step, max(min_step, h * fac * (tol/TE)**0.2))\n",
    "    if TE > tol:\n",
    "        print(\"Not precise enough\")\n",
    "        return RK45(fun, t0, y0, h_new)\n",
    "    else:\n",
    "        return y1, h_new\n",
    "\n",
    "RK45(fun, t0, y0, 0.001)"
   ]
  },
  {
   "cell_type": "code",
   "execution_count": 77,
   "metadata": {},
   "outputs": [
    {
     "data": {
      "text/plain": [
       "0.0"
      ]
     },
     "execution_count": 77,
     "metadata": {},
     "output_type": "execute_result"
    }
   ],
   "source": [
    "np.linalg.det(np.abs(y0))"
   ]
  },
  {
   "cell_type": "code",
   "execution_count": 82,
   "metadata": {},
   "outputs": [
    {
     "ename": "TypeError",
     "evalue": "'builtin_function_or_method' object is not iterable",
     "output_type": "error",
     "traceback": [
      "\u001b[1;31m---------------------------------------------------------------------------\u001b[0m",
      "\u001b[1;31mTypeError\u001b[0m                                 Traceback (most recent call last)",
      "Cell \u001b[1;32mIn[82], line 1\u001b[0m\n\u001b[1;32m----> 1\u001b[0m \u001b[39mmax\u001b[39;49m(y0\u001b[39m.\u001b[39;49many)\n",
      "\u001b[1;31mTypeError\u001b[0m: 'builtin_function_or_method' object is not iterable"
     ]
    }
   ],
   "source": [
    "max(y0.any)"
   ]
  },
  {
   "cell_type": "code",
   "execution_count": null,
   "metadata": {},
   "outputs": [],
   "source": []
  }
 ],
 "metadata": {
  "kernelspec": {
   "display_name": "cupy",
   "language": "python",
   "name": "python3"
  },
  "language_info": {
   "codemirror_mode": {
    "name": "ipython",
    "version": 3
   },
   "file_extension": ".py",
   "mimetype": "text/x-python",
   "name": "python",
   "nbconvert_exporter": "python",
   "pygments_lexer": "ipython3",
   "version": "3.9.16"
  },
  "orig_nbformat": 4,
  "vscode": {
   "interpreter": {
    "hash": "856cc2d65771ae5bcefde112ed3417b81d769c789b47bc1b7e69f12b8af17e5c"
   }
  }
 },
 "nbformat": 4,
 "nbformat_minor": 2
}
