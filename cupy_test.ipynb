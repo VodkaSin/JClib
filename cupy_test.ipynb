{
 "cells": [
  {
   "cell_type": "code",
   "execution_count": 1,
   "metadata": {},
   "outputs": [],
   "source": [
    "import numpy as np\n",
    "import cupy as cp\n",
    "import time\n",
    "import matplotlib.pyplot as plt"
   ]
  },
  {
   "cell_type": "code",
   "execution_count": null,
   "metadata": {},
   "outputs": [],
   "source": [
    "sizelist = [500, 1000, 5000, 10000, 20000]\n",
    "cut = np.zeros(np.size(sizelist))\n",
    "npt = np.zeros(np.size(sizelist))\n",
    "\n",
    "for i in range(np.size(sizelist)):\n",
    "    startloop = time.time()\n",
    "    cua = cp.random.randint(0,50,(sizelist[i],sizelist[i]))\n",
    "    cub = cp.random.randint(0,50,(sizelist[i],sizelist[i]))\n",
    "    start = time.time()\n",
    "    c = cua*cub\n",
    "    end = time.time()\n",
    "    cut[i] = end-start\n",
    "\n",
    "    npa = np.random.randint(0,50,(sizelist[i],sizelist[i]))\n",
    "    npb = np.random.randint(0,50,(sizelist[i],sizelist[i]))\n",
    "    start = time.time()\n",
    "    c = npa*npb\n",
    "    end = time.time()\n",
    "    npt[i] = end-start\n",
    "    endloop = time.time()\n",
    "    print(f'{sizelist[i]} size took {endloop-startloop}s')\n",
    "plt.plot(sizelist, cut, label='cupy 1x')\n",
    "plt.plot(sizelist, npt, label='numpy 1x')\n",
    "plt.legend()\n",
    "plt.show()"
   ]
  },
  {
   "cell_type": "code",
   "execution_count": 2,
   "metadata": {},
   "outputs": [
    {
     "name": "stdout",
     "output_type": "stream",
     "text": [
      "6 size took 3.56718111038208s\n",
      "8 size took 1.287186861038208s\n",
      "10 size took 1.621480941772461s\n"
     ]
    },
    {
     "ename": "KeyboardInterrupt",
     "evalue": "",
     "output_type": "error",
     "traceback": [
      "\u001b[1;31m---------------------------------------------------------------------------\u001b[0m",
      "\u001b[1;31mKeyboardInterrupt\u001b[0m                         Traceback (most recent call last)",
      "Cell \u001b[1;32mIn[2], line 17\u001b[0m\n\u001b[0;32m     15\u001b[0m c \u001b[39m=\u001b[39m \u001b[39m1\u001b[39m\n\u001b[0;32m     16\u001b[0m \u001b[39mfor\u001b[39;00m j \u001b[39min\u001b[39;00m \u001b[39mrange\u001b[39m(powerlist[i]):\n\u001b[1;32m---> 17\u001b[0m     c \u001b[39m*\u001b[39m\u001b[39m=\u001b[39m np\u001b[39m.\u001b[39;49mrandom\u001b[39m.\u001b[39;49mrandint(\u001b[39m0\u001b[39;49m, \u001b[39m60\u001b[39;49m, (size,size))\n\u001b[0;32m     18\u001b[0m end \u001b[39m=\u001b[39m time\u001b[39m.\u001b[39mtime()\n\u001b[0;32m     19\u001b[0m npt[i] \u001b[39m=\u001b[39m end\u001b[39m-\u001b[39mstart\n",
      "\u001b[1;31mKeyboardInterrupt\u001b[0m: "
     ]
    }
   ],
   "source": [
    "size = 5000\n",
    "powerlist = np.asarray([6,8,10,20])\n",
    "cut = np.zeros(np.size(powerlist))\n",
    "npt = np.zeros(np.size(powerlist))\n",
    "for i in range(np.size(powerlist)):\n",
    "    startloop = time.time()\n",
    "    start = time.time()\n",
    "    c = 1\n",
    "    for j in range(powerlist[i]):\n",
    "        c *= cp.random.randint(0,60,(size, size)) \n",
    "    end = time.time()\n",
    "    cut[i] = end-start\n",
    "\n",
    "    start = time.time()\n",
    "    c = 1\n",
    "    for j in range(powerlist[i]):\n",
    "        c *= np.random.randint(0, 60, (size,size))\n",
    "    end = time.time()\n",
    "    npt[i] = end-start\n",
    "    endloop = time.time()\n",
    "    print(f'{powerlist[i]} size took {endloop-startloop}s')\n",
    "plt.plot(powerlist, cut, label='cupy 1x')\n",
    "plt.plot(powerlist, npt, label='numpy 1x')\n",
    "plt.xlabel('order of multiplication')\n",
    "plt.ylabel('execution time (s)')\n",
    "plt.legend()\n",
    "plt.show()\n",
    "print(\"Over\")"
   ]
  },
  {
   "cell_type": "code",
   "execution_count": 12,
   "metadata": {},
   "outputs": [
    {
     "name": "stderr",
     "output_type": "stream",
     "text": [
      "C:\\Users\\Admin\\AppData\\Local\\Temp\\ipykernel_22956\\1322906285.py:21: RuntimeWarning: overflow encountered in multiply\n",
      "  npa = npa*c + npb\n",
      "C:\\Users\\Admin\\AppData\\Local\\Temp\\ipykernel_22956\\1322906285.py:22: RuntimeWarning: overflow encountered in multiply\n",
      "  npb = npb*c - npa\n",
      "C:\\Users\\Admin\\AppData\\Local\\Temp\\ipykernel_22956\\1322906285.py:22: RuntimeWarning: overflow encountered in subtract\n",
      "  npb = npb*c - npa\n",
      "C:\\Users\\Admin\\AppData\\Local\\Temp\\ipykernel_22956\\1322906285.py:22: RuntimeWarning: invalid value encountered in subtract\n",
      "  npb = npb*c - npa\n",
      "C:\\Users\\Admin\\AppData\\Local\\Temp\\ipykernel_22956\\1322906285.py:20: RuntimeWarning: overflow encountered in multiply\n",
      "  c = npa * npb /2\n"
     ]
    }
   ],
   "source": [
    "# Find number of classes and Nk in class on cupy and numpy performance\n",
    "N_k = 50000\n",
    "sizelist = np.asarray([50, 100, 200, 300])\n",
    "tlist = np.linspace(0,2, 1000)\n",
    "cu_t = np.zeros(np.size(sizelist))\n",
    "np_t = np.zeros(np.size(sizelist))\n",
    "for i in range(np.size(sizelist)):\n",
    "    cua = cp.random.randint(0, N_k, (sizelist[i], sizelist[i]))\n",
    "    cub = cp.random.randint(0, N_k, (sizelist[i], sizelist[i]))\n",
    "    npa = cp.asnumpy(cua)\n",
    "    npb = cp.asnumpy(cub)\n",
    "    ducu = 0.\n",
    "    dunp = 0.\n",
    "    for t in tlist:\n",
    "        startloop = time.time()\n",
    "        c = cua * cub /2\n",
    "        cua = cua*c + cub\n",
    "        cub = cub*c - cua\n",
    "        endcu = time.time()\n",
    "        c = npa * npb /2\n",
    "        npa = npa*c + npb\n",
    "        npb = npb*c - npa\n",
    "        endnp = time.time()\n",
    "        ducu += endcu - startloop\n",
    "        dunp += endnp - endcu\n",
    "    cu_t[i] = ducu\n",
    "    np_t[i] = dunp"
   ]
  },
  {
   "cell_type": "code",
   "execution_count": 13,
   "metadata": {},
   "outputs": [
    {
     "data": {
      "text/plain": [
       "Text(0, 0.5, 'Time(s)')"
      ]
     },
     "execution_count": 13,
     "metadata": {},
     "output_type": "execute_result"
    },
    {
     "data": {
      "image/png": "[encoded data removed]",
      "text/plain": [
       "<Figure size 640x480 with 1 Axes>"
      ]
     },
     "metadata": {},
     "output_type": "display_data"
    }
   ],
   "source": [
    "plt.plot(sizelist, cu_t, label='cupy')\n",
    "plt.plot(sizelist, np_t, label='numpy')\n",
    "plt.legend()\n",
    "plt.xlabel(\"Class number\")\n",
    "plt.ylabel(\"Time(s)\")\n"
   ]
  },
  {
   "cell_type": "code",
   "execution_count": 26,
   "metadata": {},
   "outputs": [
    {
     "name": "stdout",
     "output_type": "stream",
     "text": [
      "numpy takes  0.0010008811950683594\n",
      "cupy takes  0.0\n",
      "Change takes  0.0\n"
     ]
    }
   ],
   "source": [
    "# Better to initialize states with np or cp\n",
    "start = time.time()\n",
    "theta = np.pi/4\n",
    "phi = np.pi/7\n",
    "a = np.cos(theta/2)*np.exp(1j*phi)\n",
    "end = time.time()\n",
    "print(\"numpy takes \", end-start)\n",
    "\n",
    "start = time.time()\n",
    "theta = cp.pi/1\n",
    "phi = cp.pi/9\n",
    "a = cp.cos(theta/2)*cp.exp(1j*phi)\n",
    "end = time.time()\n",
    "print(\"cupy takes \", end-start)\n",
    "\n",
    "# From np to cp\n",
    "start = time.time()\n",
    "a = cp.asarray(a)\n",
    "end = time.time()\n",
    "print(\"Change takes \", end-start)"
   ]
  },
  {
   "cell_type": "code",
   "execution_count": 34,
   "metadata": {},
   "outputs": [
    {
     "data": {
      "text/plain": [
       "10"
      ]
     },
     "execution_count": 34,
     "metadata": {},
     "output_type": "execute_result"
    }
   ],
   "source": [
    "a_sz = cp.zeros(10, dtype=np.cfloat)\n",
    "type(a_sz)\n",
    "cp.size(a_sz)"
   ]
  },
  {
   "cell_type": "code",
   "execution_count": 19,
   "metadata": {},
   "outputs": [
    {
     "data": {
      "text/plain": [
       "array([[ 0.   ,  1.5  ,  3.   ,  4.5  ,  6.   ],\n",
       "       [ 0.   ,  1.875,  3.75 ,  5.625,  7.5  ],\n",
       "       [ 0.   ,  2.25 ,  4.5  ,  6.75 ,  9.   ],\n",
       "       [ 0.   ,  2.625,  5.25 ,  7.875, 10.5  ],\n",
       "       [ 0.   ,  3.   ,  6.   ,  9.   , 12.   ]])"
      ]
     },
     "execution_count": 19,
     "metadata": {},
     "output_type": "execute_result"
    }
   ],
   "source": [
    "arr = cp.linspace(0,3,5)\n",
    "brr = cp.linspace(2,4,5)\n",
    "arr*cp.vstack(brr)"
   ]
  },
  {
   "cell_type": "code",
   "execution_count": 25,
   "metadata": {},
   "outputs": [
    {
     "data": {
      "text/plain": [
       "array([[ 0.     ,  7.5    , 15.     , 22.5    , 30.     ],\n",
       "       [ 0.     , 10.78125, 21.5625 , 32.34375, 43.125  ],\n",
       "       [ 0.     , 14.625  , 29.25   , 43.875  , 58.5    ],\n",
       "       [ 0.     , 19.03125, 38.0625 , 57.09375, 76.125  ],\n",
       "       [ 0.     , 24.     , 48.     , 72.     , 96.     ]])"
      ]
     },
     "execution_count": 25,
     "metadata": {},
     "output_type": "execute_result"
    }
   ],
   "source": [
    "(cp.tile(arr, 5).reshape(5,5).T + 5)*arr*cp.vstack(brr)"
   ]
  },
  {
   "cell_type": "code",
   "execution_count": 27,
   "metadata": {},
   "outputs": [
    {
     "data": {
      "text/plain": [
       "30"
      ]
     },
     "execution_count": 27,
     "metadata": {},
     "output_type": "execute_result"
    }
   ],
   "source": [
    "max(10,4,5,3,30)"
   ]
  },
  {
   "cell_type": "code",
   "execution_count": 30,
   "metadata": {},
   "outputs": [
    {
     "data": {
      "text/plain": [
       "3.125e-07"
      ]
     },
     "execution_count": 30,
     "metadata": {},
     "output_type": "execute_result"
    }
   ],
   "source": [
    "0.5/1.6/np.sqrt(1e4)/1e4"
   ]
  },
  {
   "cell_type": "code",
   "execution_count": 2,
   "metadata": {},
   "outputs": [],
   "source": [
    "A = [0, 1/4, 3/8, 12/13, 1, 1/2]\n",
    "\n",
    "B = np.asarray([[],\n",
    "     [1/4],\n",
    "     [3/32, 9/32],\n",
    "     [1932/2197, -7200/2197, 7296/2197],\n",
    "     [439/216, -8, 3680/513, -845/4104],\n",
    "     [-8/27, 2, -3544/2565, 1859/4104, -11/40]], dtype=object)\n",
    "C = [25/216, 0, 1408/2565, 2197/4104, -1/5, 0]\n",
    "CH = [16/135, 0, 6656/12825, 28561/56430, -9/50, 2/55]\n",
    "CT = [1/360, 0, -128/4275, -2197/75240, 1/50, 2/55]\n",
    "\n",
    "def RK45(fun, t0, y0, h):\n",
    "    \"\"\"\n",
    "    Returns the new stepsize and value\n",
    "    Input:\n",
    "    fun: function\n",
    "    y0: current value\n",
    "    \"\"\"\n",
    "    k1 = h * fun(t0 + A[0]*h, y0)\n",
    "    k2 = h * fun(t0 + A[1]*h, y0 + B[1]*k1)\n",
    "    k3 = h * fun(t0 + A[2]*h, y0 + B[2][0]*k1 + B[2][1]*k2)\n",
    "    k4 = h * fun(t0 + A[3]*h, y0 + B[3][0]*k1 + B[3][1]*k2 + B[3][2]*k3)\n",
    "    k5 = h * fun(t0 + A[4]*h, y0 + B[4][0]*k1 + B[4][1]*k2 + B[4][2]*k3 +B[4][3]*k4)\n",
    "    k6 = h * fun(t0 + A[5]*h, y0 + B[5][0]*k1 + B[5][1]*k2 + B[5][2]*k3 +B[5][3]*k4\n",
    "                 + B[5][4]*k5)\n",
    "    k = np.asarray([k1,k2,k3,k4,k5,k6])\n",
    "    y1 = y0 + sum([CH[i]*k[i] for i in range(6)])\n",
    "    TE = np.abs(sum([CT[i]*k[i] for i in range(6)])).max()\n",
    "    print(TE)\n",
    "    \n",
    "    fac = 0.9\n",
    "    min_step = 1e-6\n",
    "    max_step = 1e-2\n",
    "    tol = 1e-4\n",
    "\n",
    "    h_new = min(max_step, max(min_step, h * fac * (tol/(TE+1e-6))**0.2))\n",
    "    if TE > tol:\n",
    "        print(\"Not precise enough\")\n",
    "        return RK45(fun, t0, y0, h_new)\n",
    "    else:\n",
    "        return y1, h_new"
   ]
  },
  {
   "cell_type": "code",
   "execution_count": 1,
   "metadata": {},
   "outputs": [
    {
     "ename": "NameError",
     "evalue": "name 'np' is not defined",
     "output_type": "error",
     "traceback": [
      "\u001b[1;31m---------------------------------------------------------------------------\u001b[0m",
      "\u001b[1;31mNameError\u001b[0m                                 Traceback (most recent call last)",
      "Cell \u001b[1;32mIn[1], line 1\u001b[0m\n\u001b[1;32m----> 1\u001b[0m y0 \u001b[39m=\u001b[39m np\u001b[39m.\u001b[39masarray([\u001b[39m0.1\u001b[39m,\u001b[39m2\u001b[39m,\u001b[39m3\u001b[39m,\u001b[39m4\u001b[39m])\n\u001b[0;32m      2\u001b[0m \u001b[39mdef\u001b[39;00m \u001b[39mfun\u001b[39m(t, y0):\n\u001b[0;32m      3\u001b[0m     \u001b[39mreturn\u001b[39;00m y0\u001b[39m*\u001b[39m\u001b[39m*\u001b[39m\u001b[39m2\u001b[39m \u001b[39m+\u001b[39m \u001b[39m1\u001b[39m\n",
      "\u001b[1;31mNameError\u001b[0m: name 'np' is not defined"
     ]
    }
   ],
   "source": [
    "y0 = np.asarray([0.1,2,3,4])\n",
    "def fun(t, y0):\n",
    "    return y0**2 + 1\n",
    "h = 1e-3\n",
    "for i in range(5):\n",
    "    print(y0, h)\n",
    "    [y0, h_]= RK45(fun, 0, y0, h)"
   ]
  },
  {
   "cell_type": "code",
   "execution_count": null,
   "metadata": {},
   "outputs": [],
   "source": []
  }
 ],
 "metadata": {
  "kernelspec": {
   "display_name": "cupy",
   "language": "python",
   "name": "python3"
  },
  "language_info": {
   "codemirror_mode": {
    "name": "ipython",
    "version": 3
   },
   "file_extension": ".py",
   "mimetype": "text/x-python",
   "name": "python",
   "nbconvert_exporter": "python",
   "pygments_lexer": "ipython3",
   "version": "3.9.16"
  },
  "orig_nbformat": 4,
  "vscode": {
   "interpreter": {
    "hash": "856cc2d65771ae5bcefde112ed3417b81d769c789b47bc1b7e69f12b8af17e5c"
   }
  }
 },
 "nbformat": 4,
 "nbformat_minor": 2
}
